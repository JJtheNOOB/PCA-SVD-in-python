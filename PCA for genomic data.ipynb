{
 "cells": [
  {
   "cell_type": "code",
   "execution_count": 17,
   "metadata": {},
   "outputs": [],
   "source": [
    "import pandas as pd\n",
    "import numpy as np\n",
    "import random as rd\n",
    "from sklearn.decomposition import PCA\n",
    "from sklearn import preprocessing\n",
    "import matplotlib.pyplot as plt\n",
    "%matplotlib inline\n",
    "from sklearn.preprocessing import StandardScaler"
   ]
  },
  {
   "cell_type": "code",
   "execution_count": 11,
   "metadata": {},
   "outputs": [],
   "source": [
    "#Generate the dataset\n",
    "genes = ['gene' + str(i) for i in range(1, 101)] #gene1, gene2, gene3...\n",
    "wk = ['wk' + str(i) for i in range(1, 6)] #wild sample\n",
    "ko = ['ko' + str(i) for i in range(1, 6)] #knock out sample\n",
    "\n",
    "data = pd.DataFrame(columns = [*wt, *ko], index = genes)"
   ]
  },
  {
   "cell_type": "code",
   "execution_count": 12,
   "metadata": {},
   "outputs": [],
   "source": [
    "#Fill the data with random values from poisson distributions\n",
    "for gene in genes:\n",
    "    data.loc[gene, 'wk1':'wk5'] = np.random.poisson(lam=rd.randrange(10,1000), size = 5)\n",
    "    data.loc[gene, 'ko1':'ko5'] = np.random.poisson(lam=rd.randrange(10,1000), size = 5)"
   ]
  },
  {
   "cell_type": "code",
   "execution_count": 13,
   "metadata": {},
   "outputs": [
    {
     "name": "stdout",
     "output_type": "stream",
     "text": [
      "       wk1  wk2  wk3  wk4  wk5  ko1  ko2  ko3  ko4  ko5\n",
      "gene1  789  805  777  820  782  816  802  787  838  786\n",
      "gene2  569  619  577  594  595  437  462  491  459  401\n",
      "gene3  738  754  828  762  760  190  191  218  177  182\n",
      "gene4  242  241  220  204  206  512  579  544  515  549\n",
      "gene5  592  618  637  706  627  364  381  308  350  372\n"
     ]
    }
   ],
   "source": [
    "print(data.head())"
   ]
  },
  {
   "cell_type": "code",
   "execution_count": 16,
   "metadata": {},
   "outputs": [
    {
     "name": "stdout",
     "output_type": "stream",
     "text": [
      "(100, 10)\n"
     ]
    }
   ],
   "source": [
    "print(data.shape)"
   ]
  },
  {
   "cell_type": "code",
   "execution_count": 20,
   "metadata": {},
   "outputs": [
    {
     "name": "stderr",
     "output_type": "stream",
     "text": [
      "D:\\Anacoda\\lib\\site-packages\\sklearn\\preprocessing\\data.py:625: DataConversionWarning: Data with input dtype int64 were all converted to float64 by StandardScaler.\n",
      "  return self.partial_fit(X, y)\n",
      "D:\\Anacoda\\lib\\site-packages\\sklearn\\base.py:462: DataConversionWarning: Data with input dtype int64 were all converted to float64 by StandardScaler.\n",
      "  return self.fit(X, **fit_params).transform(X)\n"
     ]
    }
   ],
   "source": [
    "#center and scale the data, mean would be 0 for each gene and std would be 1\n",
    "#scaled_data = preprocessing.scale(data.T) #Transpose the data\n",
    "scaled_data = StandardScaler().fit_transform(data.T)"
   ]
  },
  {
   "cell_type": "code",
   "execution_count": 21,
   "metadata": {},
   "outputs": [],
   "source": [
    "#Do the PCA\n",
    "pca = PCA()\n",
    "pca.fit(scaled_data)\n",
    "pca.data = pca.transform(scaled_data)"
   ]
  },
  {
   "cell_type": "code",
   "execution_count": 23,
   "metadata": {},
   "outputs": [],
   "source": [
    "#Percentage variance of each pca component stands for\n",
    "per_var = np.round(pca.explained_variance_ratio_*100, decimals = 1)\n",
    "#Create labels for the scree plot\n",
    "labels = ['PC' + str(x) for x in range(1, len(per_var)+1)]"
   ]
  },
  {
   "cell_type": "code",
   "execution_count": 24,
   "metadata": {},
   "outputs": [
    {
     "data": {
      "image/png": "[encoded data removed]",
      "text/plain": [
       "<Figure size 432x288 with 1 Axes>"
      ]
     },
     "metadata": {},
     "output_type": "display_data"
    }
   ],
   "source": [
    "#Plot the data\n",
    "plt.bar(x=range(1, len(per_var)+1), height=per_var, tick_label = labels)\n",
    "plt.ylabel('percentage of Explained Variance')\n",
    "plt.xlabel('Principle Component')\n",
    "plt.title('Scree plot')\n",
    "plt.show()"
   ]
  },
  {
   "cell_type": "markdown",
   "metadata": {},
   "source": [
    "Almost all the variance is explained by the PC1 and PC2 component"
   ]
  },
  {
   "cell_type": "code",
   "execution_count": 28,
   "metadata": {},
   "outputs": [
    {
     "data": {
      "image/png": "[encoded data removed]",
      "text/plain": [
       "<Figure size 432x288 with 1 Axes>"
      ]
     },
     "metadata": {},
     "output_type": "display_data"
    }
   ],
   "source": [
    "#draw a pca plot\n",
    "pca_df = pd.DataFrame(pca.data, index = [*wt, *ko], columns = labels)\n",
    "plt.scatter(pca_df.PC1, pca_df.PC2)\n",
    "plt.ylabel('PC2 - {0}%'.format(per_var[1]))\n",
    "plt.xlabel('PC1 - {0}%'.format(per_var[0]))\n",
    "plt.title('My PC graph')\n",
    "\n",
    "for sample in pca_df.index:\n",
    "    plt.annotate(sample, (pca_df.PC1.loc[sample], pca_df.PC2.loc[sample]))\n",
    "\n",
    "plt.show()"
   ]
  },
  {
   "cell_type": "markdown",
   "metadata": {},
   "source": [
    "WT samples and KO samples are correlated to each other"
   ]
  },
  {
   "cell_type": "code",
   "execution_count": 29,
   "metadata": {},
   "outputs": [
    {
     "name": "stdout",
     "output_type": "stream",
     "text": [
      "gene89    0.106856\n",
      "gene66    0.106827\n",
      "gene24    0.106822\n",
      "gene27    0.106799\n",
      "gene43   -0.106799\n",
      "gene84   -0.106784\n",
      "gene34   -0.106769\n",
      "gene15    0.106764\n",
      "gene58   -0.106760\n",
      "gene79    0.106747\n",
      "dtype: float64\n"
     ]
    }
   ],
   "source": [
    "loading_scores = pd.Series(pca.components_[0], index=genes) #pd series with loading scores in PC1\n",
    "sorted_loading_scores = loading_scores.abs().sort_values(ascending = False)\n",
    "\n",
    "top_10_genes = sorted_loading_scores[0:10].index.values\n",
    "\n",
    "print(loading_scores[top_10_genes])"
   ]
  },
  {
   "cell_type": "markdown",
   "metadata": {},
   "source": [
    "These genes are responsible for spliting the samples"
   ]
  },
  {
   "cell_type": "code",
   "execution_count": null,
   "metadata": {},
   "outputs": [],
   "source": []
  }
 ],
 "metadata": {
  "kernelspec": {
   "display_name": "Python 3",
   "language": "python",
   "name": "python3"
  },
  "language_info": {
   "codemirror_mode": {
    "name": "ipython",
    "version": 3
   },
   "file_extension": ".py",
   "mimetype": "text/x-python",
   "name": "python",
   "nbconvert_exporter": "python",
   "pygments_lexer": "ipython3",
   "version": "3.6.4"
  }
 },
 "nbformat": 4,
 "nbformat_minor": 2
}
